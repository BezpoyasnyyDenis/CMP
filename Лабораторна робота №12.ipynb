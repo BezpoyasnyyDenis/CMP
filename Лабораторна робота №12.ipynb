{
 "cells": [
  {
   "cell_type": "code",
   "execution_count": 1,
   "id": "4d519164",
   "metadata": {},
   "outputs": [
    {
     "name": "stdout",
     "output_type": "stream",
     "text": [
      "right rectangle: 0.55975\n",
      "average rectangle: 0.58308\n",
      "Check for the rectangle method=  0.57134\n"
     ]
    }
   ],
   "source": [
    "from scipy import integrate \n",
    "import math \n",
    "eps = 0.0001 \n",
    "\n",
    "def f1(x): \n",
    "    return 1/math.sqrt(x**2+3.2) \n",
    "\n",
    "def left_rec(f1,a,b,n): \n",
    "    h=(b-a)/n \n",
    "    sum=0 \n",
    "    for i in range(0,n): \n",
    "        sum+=f1(a+i*h) \n",
    "    return sum*h \n",
    "\n",
    "v,err = integrate.quad(f1, 1.2, 2.7)\n",
    "\n",
    "if abs(left_rec(f1, 1.2, 2.7, 2*10) - left_rec(f1, 1.2, 2.7, 10))/3. <=eps: \n",
    "    print(\"left rectangle:\",round (left_rec(f1, 1.2, 2.7, 10), 5)) \n",
    "    \n",
    "def right_rec(f1,a,b,n): \n",
    "    h=(b-a)/n \n",
    "    sum=0 \n",
    "    for i in range(1,n+1): \n",
    "        sum+=f1(a+i*h) \n",
    "    return sum*h \n",
    "\n",
    "print(\"right rectangle:\",round (right_rec(f1, 1.2, 2.7, 10), 5)) \n",
    "\n",
    "def aver_rec(f1,a,b,n): \n",
    "    h=(b-a)/n \n",
    "    sum=0 \n",
    "    for i in range(0,n): \n",
    "        sum+=f1(a+i*h) \n",
    "    return sum*h \n",
    "\n",
    "print(\"average rectangle:\",round (aver_rec(f1, 1.2, 2.7, 10), 5)) \n",
    "print(\"Check for the rectangle method= \",round (v, 5)) "
   ]
  },
  {
   "cell_type": "code",
   "execution_count": 2,
   "id": "0c7a3f00",
   "metadata": {},
   "outputs": [
    {
     "name": "stdout",
     "output_type": "stream",
     "text": [
      "Check for the simpsone method=  2.10711\n"
     ]
    }
   ],
   "source": [
    "from scipy import integrate \n",
    "import math \n",
    "\n",
    "eps = 0.0001 \n",
    "\n",
    "def f1(x): \n",
    "    return (x+1)*math.sin(x) \n",
    "\n",
    "def simpson(a,b,n): \n",
    "    h = (b - a) / n \n",
    "    integr = f1(a) + f1(b) \n",
    "    for i in range(1,n): \n",
    "        k = a + i*h \n",
    "    if i%2 == 0: \n",
    "        integr += 2 * f1(k) \n",
    "    else: \n",
    "        integr += 4 * f1(k) \n",
    "    integr *= h/3 \n",
    "    return integr \n",
    "\n",
    "if abs(simpson(1.6,2.4,2*8) -simpson(1.6,2.4,8))/ 15. <= eps: \n",
    "    print(\"Simpsone method:\",round (simpson(1.6,2.4,8), 5)) \n",
    "\n",
    "v,err = integrate.quad(f1,1.6,2.4,)#Перевірка \n",
    "print(\"Check for the simpsone method= \",round(v, 5)) "
   ]
  },
  {
   "cell_type": "code",
   "execution_count": 3,
   "id": "d506c104",
   "metadata": {},
   "outputs": [
    {
     "name": "stdout",
     "output_type": "stream",
     "text": [
      "Trapetzia method: 0.73608\n",
      "Check for the trapetzia method=  0.19465\n"
     ]
    }
   ],
   "source": [
    "from scipy import integrate \n",
    "import math \n",
    "eps = 0.0001 \n",
    "\n",
    "def f1(x): \n",
    "    return 1/math.sqrt(x**2+4) \n",
    "\n",
    "def trap(f1,a,b,n): \n",
    "    h=(b-a)/n \n",
    "    sum=0.5*(f1(a)+f1(b)) \n",
    "    for i in range(1,n): \n",
    "        sum+=f1(a+i*h) \n",
    "    return sum*h \n",
    "\n",
    "v,err = integrate.quad(f1,3.2,4)\n",
    "\n",
    "if abs (trap(f1, 0.5, 2.3, 2*20) -trap(f1, 0.5, 2.3, 20))/3. <= eps: \n",
    "    print(\"Trapetzia method:\",round (trap(f1,0.5, 2.3,20), 5)) \n",
    "print(\"Check for the trapetzia method= \",round(v, 5)) "
   ]
  }
 ],
 "metadata": {
  "kernelspec": {
   "display_name": "Python 3.10.0 64-bit",
   "language": "python",
   "name": "python3"
  },
  "language_info": {
   "codemirror_mode": {
    "name": "ipython",
    "version": 3
   },
   "file_extension": ".py",
   "mimetype": "text/x-python",
   "name": "python",
   "nbconvert_exporter": "python",
   "pygments_lexer": "ipython3",
   "version": "3.10.0"
  },
  "vscode": {
   "interpreter": {
    "hash": "afb734500600fd355917ca529030176ea0ca205570884b88f2f6f7d791fd3fbe"
   }
  }
 },
 "nbformat": 4,
 "nbformat_minor": 5
}
