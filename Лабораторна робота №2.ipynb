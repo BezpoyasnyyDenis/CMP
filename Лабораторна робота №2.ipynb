{
 "cells": [
  {
   "cell_type": "code",
   "execution_count": 1,
   "id": "4d519164",
   "metadata": {},
   "outputs": [
    {
     "data": {
      "image/png": "[encoded data removed]",
      "text/plain": [
       "<Figure size 432x288 with 1 Axes>"
      ]
     },
     "metadata": {
      "needs_background": "light"
     },
     "output_type": "display_data"
    }
   ],
   "source": [
    "import numpy as np \n",
    "import math \n",
    "import matplotlib.pyplot as plt \n",
    "\n",
    "def f(x): \n",
    "    return 3*x**4 + 4*x**3 - 12*x**2 - 5 \n",
    "\n",
    "a = 1. \n",
    "b = 2. \n",
    "eps = 0.0001 #точність \n",
    "\n",
    "def rec_dyhotomy(a, b, eps): \n",
    "    if abs(f(b) - f(a)) < eps: \n",
    "        print('Обчислюємо корінь') \n",
    "    return  \n",
    "\n",
    "mid = (a+b) / 2 \n",
    " \n",
    "if f(mid) == 0 or abs(f(mid)) < eps: \n",
    "    print(f'Корінь знаходиться в точці x = {mid}') \n",
    "elif f(a)*f(mid) < 0: \n",
    "    rec_dyhotomy(a, mid, eps) \n",
    "else: \n",
    "    rec_dyhotomy(mid, b, eps) \n",
    "\n",
    "x = np.arange(a, b, 0.0001) \n",
    " \n",
    "plt.plot(x, f(x)) \n",
    "plt.xlabel('x') \n",
    "plt.ylabel('f(x)') \n",
    "plt.title('Метод ділення навпіл') \n",
    "plt.grid() \n",
    "plt.show() "
   ]
  },
  {
   "cell_type": "code",
   "execution_count": 4,
   "id": "0c7a3f00",
   "metadata": {},
   "outputs": [
    {
     "name": "stdout",
     "output_type": "stream",
     "text": [
      "Корінь знаходиться в точці x = -2.8238525390625\n",
      "Корінь знаходиться в точці x = 1.5920867919921875\n"
     ]
    }
   ],
   "source": [
    "import numpy as пр \n",
    "import math \n",
    " \n",
    "def f(x) : \n",
    "    return 3*pow(x,4) + 4*pow(x,3) - 12*pow(x,2) - 5 \n",
    "eps = 0.0001 \n",
    "\n",
    "def rec_dyhotomy(a,b,eps): \n",
    "    if abs(f(b) - f(a)) < eps: \n",
    "        print('Кореня немає') \n",
    "        return \n",
    "    mid = (a+b) / 2 \n",
    "    if f(mid) == 0 or abs(f(mid)) < eps: \n",
    "        print(f'Корінь знаходиться в точці x = {mid}') \n",
    "    elif f(a)*f(mid) < 0: \n",
    "        rec_dyhotomy(a, mid, eps) \n",
    "    else: \n",
    "        rec_dyhotomy(mid, b, eps) \n",
    "\n",
    "rec_dyhotomy(-3, -2, eps) \n",
    "rec_dyhotomy(1, 2, eps) \n"
   ]
  },
  {
   "cell_type": "code",
   "execution_count": 6,
   "id": "d506c104",
   "metadata": {},
   "outputs": [
    {
     "name": "stdout",
     "output_type": "stream",
     "text": [
      "Корінь знаходиться в точці х =  -2.823838625708005\n"
     ]
    }
   ],
   "source": [
    "from scipy.misc import derivative \n",
    "\n",
    "def f(x): \n",
    "    return 3*x**4 + 4*x**3 - 12*x**2 -5 \n",
    "\n",
    "a = -3 \n",
    "b = -2 \n",
    "eps = 0.0001 \n",
    " \n",
    "def hord (a, b, eps): \n",
    "    if abs(b - a) < eps: \n",
    "        print('Корнея намає') \n",
    "        return \n",
    "    if (f(a)*derivative(f, a, n = 2)): \n",
    "        x0 = a  \n",
    "        xi = b \n",
    "    else: \n",
    "        x0 = b \n",
    "        xi = a \n",
    "    xi_1 = xi - (xi - x0) * f(xi)/(f(xi) - f(x0)) \n",
    "    while (abs(xi_1 - xi) > eps): \n",
    "        xi = xi_1 \n",
    "        xi_1 = xi - (xi - x0) * f(xi)/(f(xi) - f(x0)) \n",
    "    else: \n",
    "        print(f'Корінь знаходиться в точці х = ', xi_1) \n",
    "hord (a, b, eps) \n",
    "    "
   ]
  }
 ],
 "metadata": {
  "kernelspec": {
   "display_name": "Python 3.10.0 64-bit",
   "language": "python",
   "name": "python3"
  },
  "language_info": {
   "codemirror_mode": {
    "name": "ipython",
    "version": 3
   },
   "file_extension": ".py",
   "mimetype": "text/x-python",
   "name": "python",
   "nbconvert_exporter": "python",
   "pygments_lexer": "ipython3",
   "version": "3.10.0"
  },
  "vscode": {
   "interpreter": {
    "hash": "afb734500600fd355917ca529030176ea0ca205570884b88f2f6f7d791fd3fbe"
   }
  }
 },
 "nbformat": 4,
 "nbformat_minor": 5
}
