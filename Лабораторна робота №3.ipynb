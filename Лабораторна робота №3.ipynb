{
 "cells": [
  {
   "cell_type": "code",
   "execution_count": 1,
   "id": "4d519164",
   "metadata": {},
   "outputs": [
    {
     "name": "stdout",
     "output_type": "stream",
     "text": [
      "Solving the equation by Newton*s method x =  1.5922455189896256\n"
     ]
    }
   ],
   "source": [
    "import numpy as np \n",
    "import math \n",
    "from scipy.misc import derivative \n",
    "\n",
    "def f(x): \n",
    "    return 3*pow(x,4) + 4*pow(x,3) - 12*pow(x,2) - 5 \n",
    "\n",
    "a = 1  \n",
    "b = 2 \n",
    "eps = 0.0001 \n",
    "\n",
    "def nuton(a,b,eps): \n",
    "    df2 = derivative(f, b, n = 2) \n",
    "    if (f(b)*df2>0): \n",
    "        xi = b \n",
    "    else: \n",
    "        xi = a \n",
    "    df = derivative(f, xi, n = 1) \n",
    "    xi_1 = xi - f(xi)/df \n",
    "    while (abs(xi_1 - xi)>eps): \n",
    "        xi = xi_1 \n",
    "        xi_1 = xi - f(xi)/df \n",
    "    return print ('Solving the equation by Newton*s method x = ', xi_1) \n",
    "\n",
    "nuton (a, b, eps)"
   ]
  },
  {
   "cell_type": "code",
   "execution_count": 2,
   "id": "0c7a3f00",
   "metadata": {},
   "outputs": [
    {
     "name": "stdout",
     "output_type": "stream",
     "text": [
      "Solving the enquation by Newton*s method x =  -2.8238791522231637\n"
     ]
    }
   ],
   "source": [
    "import numpy as numpy \n",
    "from scipy.misc import derivative \n",
    "\n",
    "def f(x): \n",
    "    return 3*pow(x,4) + 4*pow(x,3) - 12*pow(x,2) - 5 \n",
    "\n",
    "a = -3 \n",
    "b = -2 \n",
    "eps = 0.0001 \n",
    "df2 = derivative(f, b, n = 2) \n",
    "df = derivative(f, a, n = 1) \n",
    "g = df * df2 \n",
    "\n",
    "def nuton(a, b, eps): \n",
    "    df2 = derivative(f, b, n = 2) \n",
    "    if (f(b)*df2>0): \n",
    "        xi = b \n",
    "    else: \n",
    "        xi = a \n",
    "    df = derivative(f, xi, n = 1) \n",
    "    xi_1 = xi - f(xi)/df \n",
    "    while (abs(xi_1 - xi)>eps): \n",
    "        xi = xi_1 \n",
    "        xi_1 = xi - f(xi)/df \n",
    "    return print ('Solving the enquation by Newton*s method x = ', xi_1) \n",
    "\n",
    "def hord (a, b, eps): \n",
    "    if abs(b - a) < eps: \n",
    "        print('Кореня немає') \n",
    "        return \n",
    "    if (f(a)*derivative(f, a, n = 2)): \n",
    "        x0 = a \n",
    "        xi = b \n",
    "    else: \n",
    "        x0 = b \n",
    "        xi = a \n",
    "    xi_1 = xi - (xi - x0) * f(xi)/(f(xi) - f(x0)) \n",
    "    while (abs(xi_1 - xi) > eps): \n",
    "        xi = xi_1 \n",
    "        xi_1 = xi - (xi - x0) * f(xi)/(f(xi) - f(x0)) \n",
    "    else: \n",
    "        print(f'Корінь знаходиться в точці х = ', xi_1) \n",
    "         \n",
    "def combine (a, b, eps): \n",
    "    if (g > 0): \n",
    "        hord (a, b, eps) \n",
    "    else: \n",
    "        nuton (a, b, eps) \n",
    "            \n",
    "combine(a, b, eps)"
   ]
  }
 ],
 "metadata": {
  "kernelspec": {
   "display_name": "Python 3.10.0 64-bit",
   "language": "python",
   "name": "python3"
  },
  "language_info": {
   "codemirror_mode": {
    "name": "ipython",
    "version": 3
   },
   "file_extension": ".py",
   "mimetype": "text/x-python",
   "name": "python",
   "nbconvert_exporter": "python",
   "pygments_lexer": "ipython3",
   "version": "3.10.0"
  },
  "vscode": {
   "interpreter": {
    "hash": "afb734500600fd355917ca529030176ea0ca205570884b88f2f6f7d791fd3fbe"
   }
  }
 },
 "nbformat": 4,
 "nbformat_minor": 5
}
