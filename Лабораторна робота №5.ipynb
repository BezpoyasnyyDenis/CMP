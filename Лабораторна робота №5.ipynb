{
 "cells": [
  {
   "cell_type": "code",
   "execution_count": 1,
   "id": "4d519164",
   "metadata": {},
   "outputs": [
    {
     "name": "stdout",
     "output_type": "stream",
     "text": [
      "Simple iteration:\n",
      "x= 1.206963079148089 \n",
      "y= 3.3561312408417194 \n",
      "The amount of iteration =  38\n",
      "Check [ 2.0007856  -0.03964108]\n"
     ]
    }
   ],
   "source": [
    "import numpy as np \n",
    "from scipy import optimize \n",
    "from scipy.misc import derivative \n",
    "import math \n",
    "\n",
    "x0 = 3.5 \n",
    "y0 = -0.5 \n",
    "delta = 0.1 \n",
    "\n",
    "def f1(y): \n",
    "    return math.cos(y) + 3 \n",
    "def f2 (x): \n",
    "    return 0.5 - math.cos(x - 1)  \n",
    " \n",
    "def iter (x,y,e): \n",
    "    xn = x \n",
    "    yn = y \n",
    "    xn1 = f2(x) \n",
    "    yn1 = f1(y) \n",
    "    n = 1 \n",
    "    while ((abs(xn1-xn)>=e) & (abs(yn1-yn) >=e)): \n",
    "        xn = xn1 \n",
    "        yn = yn1 \n",
    "        xn1 = f2(yn)   \n",
    "        yn1 = f1(xn) \n",
    "        n += 1 \n",
    "    print ('Simple iteration:') \n",
    "    print ('x=', xn, '\\ny=',yn,'\\nThe amount of iteration = ',n) \n",
    "iter(x0,y0,0.0001) \n",
    "\n",
    "def f3(x):  \n",
    "    return math.cos(x[0] - 1) + x[1] - 0.5 , x[0] + math.cos(x[1]) - 3 \n",
    "s = optimize.root(f3, [0.,0.], method = 'hybr') \n",
    "print ('Check',s.x)"
   ]
  }
 ],
 "metadata": {
  "kernelspec": {
   "display_name": "Python 3.10.0 64-bit",
   "language": "python",
   "name": "python3"
  },
  "language_info": {
   "codemirror_mode": {
    "name": "ipython",
    "version": 3
   },
   "file_extension": ".py",
   "mimetype": "text/x-python",
   "name": "python",
   "nbconvert_exporter": "python",
   "pygments_lexer": "ipython3",
   "version": "3.10.0"
  },
  "vscode": {
   "interpreter": {
    "hash": "afb734500600fd355917ca529030176ea0ca205570884b88f2f6f7d791fd3fbe"
   }
  }
 },
 "nbformat": 4,
 "nbformat_minor": 5
}
